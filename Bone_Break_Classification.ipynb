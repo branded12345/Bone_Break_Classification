{
  "nbformat": 4,
  "nbformat_minor": 0,
  "metadata": {
    "colab": {
      "provenance": [],
      "gpuType": "T4"
    },
    "kernelspec": {
      "name": "python3",
      "display_name": "Python 3"
    },
    "language_info": {
      "name": "python"
    },
    "accelerator": "GPU"
  },
  "cells": [
    {
      "cell_type": "code",
      "execution_count": 1,
      "metadata": {
        "id": "hqyMIlU5SgtW"
      },
      "outputs": [],
      "source": [
        "!mkdir -p ~/.kaggle\n",
        "!cp kaggle.json ~/.kaggle/"
      ]
    },
    {
      "cell_type": "code",
      "source": [
        "!kaggle datasets download -d pkdarabi/bone-break-classification-image-dataset"
      ],
      "metadata": {
        "colab": {
          "base_uri": "https://localhost:8080/"
        },
        "id": "GxKpaA0DSvpb",
        "outputId": "c3373114-d6b9-47e3-b76f-cc654db213ea"
      },
      "execution_count": 2,
      "outputs": [
        {
          "output_type": "stream",
          "name": "stdout",
          "text": [
            "Warning: Your Kaggle API key is readable by other users on this system! To fix this, you can run 'chmod 600 /root/.kaggle/kaggle.json'\n",
            "Downloading bone-break-classification-image-dataset.zip to /content\n",
            " 32% 9.00M/28.4M [00:00<00:00, 26.0MB/s]\n",
            "100% 28.4M/28.4M [00:00<00:00, 66.7MB/s]\n"
          ]
        }
      ]
    },
    {
      "cell_type": "code",
      "source": [
        "import zipfile\n",
        "zip_ref= zipfile.ZipFile('/content/bone-break-classification-image-dataset.zip', 'r')\n",
        "zip_ref.extractall('/content')\n",
        "zip_ref.close()"
      ],
      "metadata": {
        "id": "TAMzjc6QSx-i"
      },
      "execution_count": 3,
      "outputs": []
    },
    {
      "cell_type": "code",
      "source": [
        "import tensorflow as tf\n",
        "from tensorflow import keras\n",
        "from keras import Sequential, models\n",
        "from tensorflow.keras.layers import Conv2D, BatchNormalization, LeakyReLU, Dropout, Flatten, Dense\n",
        "from keras.preprocessing import image\n",
        "from keras.preprocessing.image import ImageDataGenerator"
      ],
      "metadata": {
        "id": "jKyA8du8S3i6"
      },
      "execution_count": 18,
      "outputs": []
    },
    {
      "cell_type": "code",
      "source": [
        "# Generators\n",
        "\n",
        "train_ds= keras.utils.image_dataset_from_directory(\n",
        "    directory= '/content/Bone Break Classification/Bone Break Classification',\n",
        "    labels= 'inferred',\n",
        "    label_mode= 'int',\n",
        "    batch_size= 32,\n",
        "    image_size= (256,256)\n",
        ")\n",
        "\n",
        "validation_ds= keras.utils.image_dataset_from_directory(\n",
        "    directory= '/content/Bone Break Classification/Bone Break Classification',\n",
        "    labels= 'inferred',\n",
        "    validation_split=0.1,\n",
        "    subset=\"validation\",\n",
        "    label_mode= 'int',\n",
        "    batch_size= 32,\n",
        "    image_size= (256,256),\n",
        "    seed=42\n",
        ")"
      ],
      "metadata": {
        "colab": {
          "base_uri": "https://localhost:8080/"
        },
        "id": "SKSNRBH7S6zC",
        "outputId": "92747a5f-51cd-492e-a991-66b3e24c7ade"
      },
      "execution_count": 5,
      "outputs": [
        {
          "output_type": "stream",
          "name": "stdout",
          "text": [
            "Found 1129 files belonging to 10 classes.\n",
            "Found 1129 files belonging to 10 classes.\n",
            "Using 112 files for validation.\n"
          ]
        }
      ]
    },
    {
      "cell_type": "code",
      "source": [
        "# Normalization\n",
        "\n",
        "def process(image, label):\n",
        "  image= tf.cast(image/255., tf.float32)\n",
        "  return image, label\n",
        "\n",
        "train_ds= train_ds.map(process)\n",
        "validation_ds= validation_ds.map(process)"
      ],
      "metadata": {
        "id": "ozdPvPLfTc2Y"
      },
      "execution_count": 6,
      "outputs": []
    },
    {
      "cell_type": "code",
      "source": [
        "import os\n",
        "\n",
        "# Assuming your dataset directory structure is organized such that each subdirectory represents a class\n",
        "class_names = sorted(os.listdir(r\"/content/Bone Break Classification/Bone Break Classification\"))\n",
        "class_indices = {class_name: i for i, class_name in enumerate(class_names)}\n",
        "\n",
        "# Now you can access class indices using class_names or predicted_classes\n",
        "print(class_indices)"
      ],
      "metadata": {
        "colab": {
          "base_uri": "https://localhost:8080/"
        },
        "id": "9wwJnQkYT8wc",
        "outputId": "db5e41dc-163e-4cbc-c57b-4c32ef140028"
      },
      "execution_count": 7,
      "outputs": [
        {
          "output_type": "stream",
          "name": "stdout",
          "text": [
            "{'Avulsion fracture': 0, 'Comminuted fracture': 1, 'Fracture Dislocation': 2, 'Greenstick fracture': 3, 'Hairline Fracture': 4, 'Impacted fracture': 5, 'Longitudinal fracture': 6, 'Oblique fracture': 7, 'Pathological fracture': 8, 'Spiral Fracture': 9}\n"
          ]
        }
      ]
    },
    {
      "cell_type": "code",
      "source": [
        "# Creating our CNN model\n",
        "\n",
        "model = Sequential()\n",
        "\n",
        "model.add(Conv2D(32,kernel_size=(3,3),padding='valid',activation='relu',input_shape=(256,256,3)))\n",
        "model.add(BatchNormalization())\n",
        "model.add(MaxPooling2D(pool_size=(2,2),strides=2,padding='valid'))\n",
        "\n",
        "model.add(Conv2D(64,kernel_size=(3,3),padding='valid',activation='relu'))\n",
        "model.add(BatchNormalization())\n",
        "model.add(MaxPooling2D(pool_size=(2,2),strides=2,padding='valid'))\n",
        "\n",
        "model.add(Conv2D(128,kernel_size=(3,3),padding='valid',activation='relu'))\n",
        "model.add(BatchNormalization())\n",
        "model.add(MaxPooling2D(pool_size=(2,2),strides=2,padding='valid'))\n",
        "\n",
        "model.add(Flatten())\n",
        "\n",
        "model.add(Dense(128,activation='relu'))\n",
        "model.add(Dropout(0.1))\n",
        "model.add(Dense(64,activation='relu'))\n",
        "model.add(Dropout(0.1))\n",
        "model.add(Dense(10,activation='softmax'))"
      ],
      "metadata": {
        "id": "fed-UbIwUCXS"
      },
      "execution_count": 8,
      "outputs": []
    },
    {
      "cell_type": "code",
      "source": [
        "model.summary()"
      ],
      "metadata": {
        "colab": {
          "base_uri": "https://localhost:8080/"
        },
        "id": "Kx8NVIQ8UKhf",
        "outputId": "d54e3fdc-381b-40aa-c5de-bdb8fb543c85"
      },
      "execution_count": 9,
      "outputs": [
        {
          "output_type": "stream",
          "name": "stdout",
          "text": [
            "Model: \"sequential\"\n",
            "_________________________________________________________________\n",
            " Layer (type)                Output Shape              Param #   \n",
            "=================================================================\n",
            " conv2d (Conv2D)             (None, 254, 254, 32)      896       \n",
            "                                                                 \n",
            " batch_normalization (Batch  (None, 254, 254, 32)      128       \n",
            " Normalization)                                                  \n",
            "                                                                 \n",
            " max_pooling2d (MaxPooling2  (None, 127, 127, 32)      0         \n",
            " D)                                                              \n",
            "                                                                 \n",
            " conv2d_1 (Conv2D)           (None, 125, 125, 64)      18496     \n",
            "                                                                 \n",
            " batch_normalization_1 (Bat  (None, 125, 125, 64)      256       \n",
            " chNormalization)                                                \n",
            "                                                                 \n",
            " max_pooling2d_1 (MaxPoolin  (None, 62, 62, 64)        0         \n",
            " g2D)                                                            \n",
            "                                                                 \n",
            " conv2d_2 (Conv2D)           (None, 60, 60, 128)       73856     \n",
            "                                                                 \n",
            " batch_normalization_2 (Bat  (None, 60, 60, 128)       512       \n",
            " chNormalization)                                                \n",
            "                                                                 \n",
            " max_pooling2d_2 (MaxPoolin  (None, 30, 30, 128)       0         \n",
            " g2D)                                                            \n",
            "                                                                 \n",
            " flatten (Flatten)           (None, 115200)            0         \n",
            "                                                                 \n",
            " dense (Dense)               (None, 128)               14745728  \n",
            "                                                                 \n",
            " dropout (Dropout)           (None, 128)               0         \n",
            "                                                                 \n",
            " dense_1 (Dense)             (None, 64)                8256      \n",
            "                                                                 \n",
            " dropout_1 (Dropout)         (None, 64)                0         \n",
            "                                                                 \n",
            " dense_2 (Dense)             (None, 10)                650       \n",
            "                                                                 \n",
            "=================================================================\n",
            "Total params: 14848778 (56.64 MB)\n",
            "Trainable params: 14848330 (56.64 MB)\n",
            "Non-trainable params: 448 (1.75 KB)\n",
            "_________________________________________________________________\n"
          ]
        }
      ]
    },
    {
      "cell_type": "code",
      "source": [
        "model.compile(optimizer='adam', loss=tf.keras.losses.SparseCategoricalCrossentropy(from_logits=False), metrics=['accuracy'])"
      ],
      "metadata": {
        "id": "Qqa-J0u1UPmG"
      },
      "execution_count": 10,
      "outputs": []
    },
    {
      "cell_type": "code",
      "source": [
        "history = model.fit(\n",
        "    train_ds,\n",
        "    epochs=10,\n",
        "    validation_data=validation_ds,\n",
        "    verbose = 1\n",
        ")"
      ],
      "metadata": {
        "colab": {
          "base_uri": "https://localhost:8080/"
        },
        "id": "EWZp0Zo_USW4",
        "outputId": "6dc6fca6-52a8-41bf-9d6d-1f02df707e1d"
      },
      "execution_count": 11,
      "outputs": [
        {
          "output_type": "stream",
          "name": "stdout",
          "text": [
            "Epoch 1/10\n",
            "36/36 [==============================] - 15s 162ms/step - loss: 10.2869 - accuracy: 0.1293 - val_loss: 5.5538 - val_accuracy: 0.1429\n",
            "Epoch 2/10\n",
            "36/36 [==============================] - 4s 97ms/step - loss: 5.2071 - accuracy: 0.1479 - val_loss: 6.3406 - val_accuracy: 0.1250\n",
            "Epoch 3/10\n",
            "36/36 [==============================] - 4s 97ms/step - loss: 3.5030 - accuracy: 0.1692 - val_loss: 7.4482 - val_accuracy: 0.1071\n",
            "Epoch 4/10\n",
            "36/36 [==============================] - 4s 96ms/step - loss: 2.7440 - accuracy: 0.1789 - val_loss: 17.6054 - val_accuracy: 0.1071\n",
            "Epoch 5/10\n",
            "36/36 [==============================] - 4s 106ms/step - loss: 2.6633 - accuracy: 0.1736 - val_loss: 12.7909 - val_accuracy: 0.1250\n",
            "Epoch 6/10\n",
            "36/36 [==============================] - 4s 96ms/step - loss: 2.4772 - accuracy: 0.1807 - val_loss: 3.4490 - val_accuracy: 0.1071\n",
            "Epoch 7/10\n",
            "36/36 [==============================] - 4s 107ms/step - loss: 2.4276 - accuracy: 0.2143 - val_loss: 6.4559 - val_accuracy: 0.0893\n",
            "Epoch 8/10\n",
            "36/36 [==============================] - 4s 97ms/step - loss: 2.3323 - accuracy: 0.2267 - val_loss: 6.8169 - val_accuracy: 0.1250\n",
            "Epoch 9/10\n",
            "36/36 [==============================] - 4s 96ms/step - loss: 2.1876 - accuracy: 0.2285 - val_loss: 3.6040 - val_accuracy: 0.1250\n",
            "Epoch 10/10\n",
            "36/36 [==============================] - 4s 103ms/step - loss: 2.1264 - accuracy: 0.2374 - val_loss: 3.2753 - val_accuracy: 0.1250\n"
          ]
        }
      ]
    },
    {
      "cell_type": "markdown",
      "source": [
        "## Chnage the model"
      ],
      "metadata": {
        "id": "puVqyYwgU-hL"
      }
    },
    {
      "cell_type": "code",
      "source": [
        "# Creating our CNN model\n",
        "\n",
        "model = models.Sequential()\n",
        "\n",
        "model.add(Conv2D(32, kernel_size=(3,3), padding='same', activation='relu', input_shape=(256,256,3)))\n",
        "model.add(BatchNormalization(momentum=0.9))\n",
        "model.add(LeakyReLU(0.2))\n",
        "model.add(Dropout(rate=0.2))\n",
        "model.add(Conv2D(64, kernel_size=(3,3), strides=2, padding='same'))\n",
        "model.add(BatchNormalization(momentum=0.9))\n",
        "model.add(LeakyReLU(0.2))\n",
        "model.add(Dropout(rate=0.2))\n",
        "model.add(Conv2D(128, kernel_size=(3,3), strides=2, padding='same'))\n",
        "model.add(BatchNormalization(momentum=0.9))\n",
        "model.add(LeakyReLU(0.2))\n",
        "model.add(Dropout(rate=0.2))\n",
        "model.add(Conv2D(256, kernel_size=(3,3), strides=2, padding='same'))\n",
        "model.add(BatchNormalization(momentum=0.9))\n",
        "model.add(LeakyReLU(0.2))\n",
        "model.add(Dropout(rate=0.2))\n",
        "\n",
        "model.add(Flatten())\n",
        "\n",
        "model.add(Dense(100))\n",
        "model.add(BatchNormalization(momentum=0.9))\n",
        "model.add(LeakyReLU(0.2))\n",
        "model.add(Dropout(rate=0.2))\n",
        "\n",
        "model.add(Dense(10, activation='softmax'))"
      ],
      "metadata": {
        "id": "ehUuiFXMUhOU"
      },
      "execution_count": 19,
      "outputs": []
    },
    {
      "cell_type": "code",
      "source": [
        "model.summary()"
      ],
      "metadata": {
        "colab": {
          "base_uri": "https://localhost:8080/"
        },
        "id": "auNK9B_qVt7p",
        "outputId": "e16aa02d-51f8-4d52-d2ff-58eacb781acd"
      },
      "execution_count": 20,
      "outputs": [
        {
          "output_type": "stream",
          "name": "stdout",
          "text": [
            "Model: \"sequential_3\"\n",
            "_________________________________________________________________\n",
            " Layer (type)                Output Shape              Param #   \n",
            "=================================================================\n",
            " conv2d_3 (Conv2D)           (None, 256, 256, 32)      896       \n",
            "                                                                 \n",
            " batch_normalization_3 (Bat  (None, 256, 256, 32)      128       \n",
            " chNormalization)                                                \n",
            "                                                                 \n",
            " leaky_re_lu (LeakyReLU)     (None, 256, 256, 32)      0         \n",
            "                                                                 \n",
            " dropout_2 (Dropout)         (None, 256, 256, 32)      0         \n",
            "                                                                 \n",
            " conv2d_4 (Conv2D)           (None, 128, 128, 64)      18496     \n",
            "                                                                 \n",
            " batch_normalization_4 (Bat  (None, 128, 128, 64)      256       \n",
            " chNormalization)                                                \n",
            "                                                                 \n",
            " leaky_re_lu_1 (LeakyReLU)   (None, 128, 128, 64)      0         \n",
            "                                                                 \n",
            " dropout_3 (Dropout)         (None, 128, 128, 64)      0         \n",
            "                                                                 \n",
            " conv2d_5 (Conv2D)           (None, 64, 64, 128)       73856     \n",
            "                                                                 \n",
            " batch_normalization_5 (Bat  (None, 64, 64, 128)       512       \n",
            " chNormalization)                                                \n",
            "                                                                 \n",
            " leaky_re_lu_2 (LeakyReLU)   (None, 64, 64, 128)       0         \n",
            "                                                                 \n",
            " dropout_4 (Dropout)         (None, 64, 64, 128)       0         \n",
            "                                                                 \n",
            " conv2d_6 (Conv2D)           (None, 32, 32, 256)       295168    \n",
            "                                                                 \n",
            " batch_normalization_6 (Bat  (None, 32, 32, 256)       1024      \n",
            " chNormalization)                                                \n",
            "                                                                 \n",
            " leaky_re_lu_3 (LeakyReLU)   (None, 32, 32, 256)       0         \n",
            "                                                                 \n",
            " dropout_5 (Dropout)         (None, 32, 32, 256)       0         \n",
            "                                                                 \n",
            " flatten_1 (Flatten)         (None, 262144)            0         \n",
            "                                                                 \n",
            " dense_3 (Dense)             (None, 100)               26214500  \n",
            "                                                                 \n",
            " batch_normalization_7 (Bat  (None, 100)               400       \n",
            " chNormalization)                                                \n",
            "                                                                 \n",
            " leaky_re_lu_4 (LeakyReLU)   (None, 100)               0         \n",
            "                                                                 \n",
            " dropout_6 (Dropout)         (None, 100)               0         \n",
            "                                                                 \n",
            " dense_4 (Dense)             (None, 10)                1010      \n",
            "                                                                 \n",
            "=================================================================\n",
            "Total params: 26606246 (101.49 MB)\n",
            "Trainable params: 26605086 (101.49 MB)\n",
            "Non-trainable params: 1160 (4.53 KB)\n",
            "_________________________________________________________________\n"
          ]
        }
      ]
    },
    {
      "cell_type": "code",
      "source": [
        "model.compile(optimizer='adam', loss=tf.keras.losses.SparseCategoricalCrossentropy(from_logits=False), metrics=['accuracy'])"
      ],
      "metadata": {
        "id": "dszV0iDsVBO9"
      },
      "execution_count": 21,
      "outputs": []
    },
    {
      "cell_type": "code",
      "source": [
        "history = model.fit(\n",
        "    train_ds,\n",
        "    epochs=10,\n",
        "    validation_data=validation_ds,\n",
        "    verbose = 1\n",
        ")"
      ],
      "metadata": {
        "colab": {
          "base_uri": "https://localhost:8080/"
        },
        "id": "m6LWGHFNVv7y",
        "outputId": "248868dd-1097-4843-b69a-dbc32a8173a8"
      },
      "execution_count": 22,
      "outputs": [
        {
          "output_type": "stream",
          "name": "stdout",
          "text": [
            "Epoch 1/10\n",
            "36/36 [==============================] - 21s 321ms/step - loss: 2.6710 - accuracy: 0.1373 - val_loss: 2.3577 - val_accuracy: 0.1518\n",
            "Epoch 2/10\n",
            "36/36 [==============================] - 9s 229ms/step - loss: 2.1791 - accuracy: 0.2657 - val_loss: 2.4880 - val_accuracy: 0.2143\n",
            "Epoch 3/10\n",
            "36/36 [==============================] - 8s 220ms/step - loss: 1.8992 - accuracy: 0.3534 - val_loss: 1.9439 - val_accuracy: 0.3661\n",
            "Epoch 4/10\n",
            "36/36 [==============================] - 8s 223ms/step - loss: 1.5502 - accuracy: 0.4951 - val_loss: 1.0557 - val_accuracy: 0.6964\n",
            "Epoch 5/10\n",
            "36/36 [==============================] - 8s 223ms/step - loss: 0.9803 - accuracy: 0.7095 - val_loss: 0.5938 - val_accuracy: 0.7946\n",
            "Epoch 6/10\n",
            "36/36 [==============================] - 9s 232ms/step - loss: 0.5197 - accuracy: 0.8733 - val_loss: 0.2665 - val_accuracy: 0.9643\n",
            "Epoch 7/10\n",
            "36/36 [==============================] - 9s 234ms/step - loss: 0.2613 - accuracy: 0.9610 - val_loss: 0.0937 - val_accuracy: 0.9911\n",
            "Epoch 8/10\n",
            "36/36 [==============================] - 9s 228ms/step - loss: 0.1522 - accuracy: 0.9849 - val_loss: 0.0390 - val_accuracy: 0.9911\n",
            "Epoch 9/10\n",
            "36/36 [==============================] - 9s 238ms/step - loss: 0.0770 - accuracy: 0.9938 - val_loss: 0.0371 - val_accuracy: 0.9911\n",
            "Epoch 10/10\n",
            "36/36 [==============================] - 9s 239ms/step - loss: 0.0671 - accuracy: 0.9911 - val_loss: 0.0290 - val_accuracy: 0.9911\n"
          ]
        }
      ]
    },
    {
      "cell_type": "markdown",
      "source": [
        "### Accuracy is 99.11%"
      ],
      "metadata": {
        "id": "UHPa-HAdWVYa"
      }
    },
    {
      "cell_type": "code",
      "source": [
        "!pip install pillow\n",
        "!pip install opencv-python\n",
        "import cv2\n",
        "import numpy as np\n",
        "import matplotlib.pyplot as plt"
      ],
      "metadata": {
        "colab": {
          "base_uri": "https://localhost:8080/"
        },
        "id": "sQE84U-4V0wh",
        "outputId": "74faad4f-155c-4bd2-9a84-9e2a63c1fc22"
      },
      "execution_count": 25,
      "outputs": [
        {
          "output_type": "stream",
          "name": "stdout",
          "text": [
            "Requirement already satisfied: pillow in /usr/local/lib/python3.10/dist-packages (9.4.0)\n",
            "Requirement already satisfied: opencv-python in /usr/local/lib/python3.10/dist-packages (4.8.0.76)\n",
            "Requirement already satisfied: numpy>=1.21.2 in /usr/local/lib/python3.10/dist-packages (from opencv-python) (1.25.2)\n"
          ]
        }
      ]
    },
    {
      "cell_type": "code",
      "source": [
        "input_image_path = input('Path of the image to be predicted: ')\n",
        "\n",
        "input_image = cv2.imread(input_image_path)\n",
        "\n",
        "plt.imshow(cv2.cvtColor(input_image, cv2.COLOR_BGR2RGB))\n",
        "plt.axis('off')  # Hide axis\n",
        "plt.show()\n",
        "\n",
        "input_image_resized = cv2.resize(input_image, (256,256))\n",
        "\n",
        "input_image_scaled = input_image_resized/255\n",
        "\n",
        "input_image_reshaped = np.reshape(input_image_scaled, [1,256,256,3])\n",
        "\n",
        "input_prediction = model.predict(input_image_reshaped)\n",
        "\n",
        "print(input_prediction)\n",
        "\n",
        "\n",
        "input_pred_label = np.argmax(input_prediction)\n",
        "\n",
        "print(input_pred_label)\n"
      ],
      "metadata": {
        "colab": {
          "base_uri": "https://localhost:8080/",
          "height": 513
        },
        "id": "Jlz6aNKrWhfK",
        "outputId": "f39b5cb0-0ca0-4bbe-c0fd-3a301784307f"
      },
      "execution_count": 30,
      "outputs": [
        {
          "name": "stdout",
          "output_type": "stream",
          "text": [
            "Path of the image to be predicted: /content/Bone Break Classification/Bone Break Classification/Spiral Fracture/Test/590_2014_1411_Fig1_HTc234c5605fa8336a4d522e89d48.jpg\n"
          ]
        },
        {
          "output_type": "display_data",
          "data": {
            "text/plain": [
              "<Figure size 640x480 with 1 Axes>"
            ],
            "image/png": "[encoded data removed]"
          },
          "metadata": {}
        },
        {
          "output_type": "stream",
          "name": "stdout",
          "text": [
            "1/1 [==============================] - 0s 17ms/step\n",
            "[[2.5410501e-03 4.9175643e-03 4.4953283e-03 1.9190523e-03 1.0054199e-03\n",
            "  8.8332151e-04 8.2875229e-04 3.8717095e-02 5.6154450e-04 9.4413090e-01]]\n",
            "9\n"
          ]
        }
      ]
    },
    {
      "cell_type": "markdown",
      "source": [
        "## Model performs perfectly.  \n",
        "### 99% accuracy is satisfied."
      ],
      "metadata": {
        "id": "t6lTUsayXFJp"
      }
    },
    {
      "cell_type": "code",
      "source": [
        "model_loss, model_acc = model.evaluate(train_ds)\n",
        "print(\"Model has a loss of %.2f and accuracy %.2f%%\" % (model_loss, model_acc*100))"
      ],
      "metadata": {
        "colab": {
          "base_uri": "https://localhost:8080/"
        },
        "id": "nIi-ReTPWjvs",
        "outputId": "03f95e29-3a71-44c5-d343-62bce4da7b48"
      },
      "execution_count": 31,
      "outputs": [
        {
          "output_type": "stream",
          "name": "stdout",
          "text": [
            "36/36 [==============================] - 2s 51ms/step - loss: 0.0295 - accuracy: 0.9947\n",
            "Model has a loss of 0.03 and accuracy 99.47%\n"
          ]
        }
      ]
    },
    {
      "cell_type": "code",
      "source": [
        "model_loss, model_acc = model.evaluate(validation_ds)\n",
        "print(\"Model has a loss of %.2f and accuracy %.2f%%\" % (model_loss, model_acc*100))"
      ],
      "metadata": {
        "colab": {
          "base_uri": "https://localhost:8080/"
        },
        "id": "RenfcmoJXSMh",
        "outputId": "06c36764-b9fd-49a0-8f07-df522c17cecf"
      },
      "execution_count": 32,
      "outputs": [
        {
          "output_type": "stream",
          "name": "stdout",
          "text": [
            "4/4 [==============================] - 0s 50ms/step - loss: 0.0290 - accuracy: 0.9911\n",
            "Model has a loss of 0.03 and accuracy 99.11%\n"
          ]
        }
      ]
    },
    {
      "cell_type": "code",
      "source": [
        "model.save('Bone_Break_Classification.h5')"
      ],
      "metadata": {
        "colab": {
          "base_uri": "https://localhost:8080/"
        },
        "id": "UmYaGpcaXUWi",
        "outputId": "b64b589e-db62-4710-9d97-50ffcc7b57ee"
      },
      "execution_count": 33,
      "outputs": [
        {
          "output_type": "stream",
          "name": "stderr",
          "text": [
            "/usr/local/lib/python3.10/dist-packages/keras/src/engine/training.py:3103: UserWarning: You are saving your model as an HDF5 file via `model.save()`. This file format is considered legacy. We recommend using instead the native Keras format, e.g. `model.save('my_model.keras')`.\n",
            "  saving_api.save_model(\n"
          ]
        }
      ]
    },
    {
      "cell_type": "code",
      "source": [],
      "metadata": {
        "id": "8mr8QdVvXak6"
      },
      "execution_count": null,
      "outputs": []
    }
  ]
}